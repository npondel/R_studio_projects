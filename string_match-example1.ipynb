{
 "cells": [
  {
   "cell_type": "markdown",
   "metadata": {},
   "source": [
    "## String matching in R\n",
    "\n",
    "Proof of concept on dummy data"
   ]
  },
  {
   "cell_type": "markdown",
   "metadata": {},
   "source": [
    "### Load Packages"
   ]
  },
  {
   "cell_type": "code",
   "execution_count": null,
   "metadata": {},
   "outputs": [],
   "source": [
    "if (!require(stringr)) {\n",
    "  install.packages(\"stringr\")\n",
    "  library(stringr)\n",
    "}\n",
    "\n",
    "if (!require(dplyr)) {\n",
    "  install.packages(\"dplyr\")\n",
    "  library(dplyr)\n",
    "}"
   ]
  },
  {
   "cell_type": "markdown",
   "metadata": {},
   "source": [
    "### Make up some data"
   ]
  },
  {
   "cell_type": "code",
   "execution_count": null,
   "metadata": {},
   "outputs": [],
   "source": [
    "KEY_CASE <- c(\"1234\", \"238094\", \"12039823\", \"382902\", \"234890\",\n",
    "              \"23984775\", \"99920AB\", \"234567\", \"0984028\")\n",
    "\n",
    "input_text <- c(\"this is a bunch of junk text\",\n",
    "                  \"wow look at all this text\",\n",
    "                  \"wish I had a text generator of some sort\",\n",
    "                  \"almost done with nonsense\",\n",
    "                  \"wefoij,23j, foij, hello\",\n",
    "                  \"trying to break it 1234, - / , -..\",\n",
    "                  \"hi\", \n",
    "                  \"this is my text data\",\n",
    "                  \"some notes\")\n",
    "\n",
    "text_df <- data.frame(KEY_CASE, input_text)\n",
    "\n",
    "text_df$KEY_CASE <- as.character(text_df$KEY_CASE)\n",
    "text_df$input_text <- as.character(text_df$input_text)"
   ]
  },
  {
   "cell_type": "markdown",
   "metadata": {},
   "source": [
    "Now we have our input data"
   ]
  },
  {
   "cell_type": "code",
   "execution_count": null,
   "metadata": {},
   "outputs": [],
   "source": [
    "text_df"
   ]
  },
  {
   "cell_type": "markdown",
   "metadata": {},
   "source": [
    "### Things 1 matches"
   ]
  },
  {
   "cell_type": "code",
   "execution_count": null,
   "metadata": {},
   "outputs": [],
   "source": [
    "# setup variables for matches here\n",
    "things1_to_find <- c(\"this\", \"1234\", \"foij\")\n",
    "\n",
    "# Create TRUE/FALSE vector based on string matching \"things1_to_find\"\n",
    "things1_matches <- grepl(\n",
    "  paste(things1_to_find, collapse = \"|\"),\n",
    "  text_df$input_text)\n",
    "\n",
    "# create dataframe for matches and reset IDs as character vector\n",
    "match_data <- data.frame(text_df$KEY_CASE, things1_matches)\n",
    "match_data$text_df.KEY_CASE <- as.character(match_data$text_df.KEY_CASE)\n",
    "colnames(match_data)[colnames(match_data)==\"text_df.KEY_CASE\"] <- \"KEY_CASE\"\n",
    "\n",
    "# convert T/F into 1/0 by first changing to character vector then perform string replacement\n",
    "match_data$things1_matches <- as.character(match_data$things1_matches)\n",
    "match_data$things1_matches <- str_replace_all(match_data$things1_matches, \"TRUE\", \"1\")\n",
    "match_data$things1_matches <- str_replace_all(match_data$things1_matches, \"FALSE\", \"0\")"
   ]
  },
  {
   "cell_type": "markdown",
   "metadata": {},
   "source": [
    "### Things 2 matches"
   ]
  },
  {
   "cell_type": "code",
   "execution_count": null,
   "metadata": {},
   "outputs": [],
   "source": [
    "# setup variables for matches here\n",
    "things2_to_find <- c(\"and\", \"a\", \"generator\")\n",
    "\n",
    "# Create TRUE/FALSE vector based on string matching \"things1_to_find\"\n",
    "things2_matches <- grepl(\n",
    "  paste(things2_to_find, collapse = \"|\"),\n",
    "  text_df$input_text)\n",
    "\n",
    "match_data$things2_matches <- things2_matches\n",
    "\n",
    "# convert T/F into 1/0 by first changing to character vector then perform string replacement\n",
    "match_data$things2_matches <- as.character(match_data$things2_matches)\n",
    "match_data$things2_matches <- str_replace_all(match_data$things2_matches, \"TRUE\", \"1\")\n",
    "match_data$things2_matches <- str_replace_all(match_data$things2_matches, \"FALSE\", \"0\")"
   ]
  }
 ],
 "metadata": {
  "kernelspec": {
   "display_name": "R",
   "language": "R",
   "name": "ir"
  },
  "language_info": {
   "codemirror_mode": "r",
   "file_extension": ".r",
   "mimetype": "text/x-r-source",
   "name": "R",
   "pygments_lexer": "r",
   "version": "3.4.4"
  }
 },
 "nbformat": 4,
 "nbformat_minor": 2
}
